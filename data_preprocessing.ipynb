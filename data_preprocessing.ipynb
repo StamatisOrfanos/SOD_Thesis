{
 "cells": [
  {
   "cell_type": "markdown",
   "metadata": {},
   "source": [
    "# Data Preprocessing for all the Datasets"
   ]
  },
  {
   "cell_type": "markdown",
   "metadata": {},
   "source": [
    "### Import Libraries and data paths"
   ]
  },
  {
   "cell_type": "code",
   "execution_count": 2,
   "metadata": {},
   "outputs": [],
   "source": [
    "# Import Libraries\n",
    "import os\n",
    "module_path = os.path.abspath(os.path.join('..'))\n",
    "import torch    \n",
    "import warnings\n",
    "import numpy as np\n",
    "import pandas as pd\n",
    "import os, shutil, cv2\n",
    "from matplotlib import pyplot as plt\n",
    "from tqdm import tqdm\n",
    "import src.data_preprocessing as preprocessing\n",
    "import src.utils as utils\n",
    " \n",
    "warnings.filterwarnings(\"ignore\")\n",
    "\n",
    "\n",
    "# Import base data paths\n",
    "COCO_DATA_PATH = \"data/coco2017/\"\n",
    "VIS_DATA_PATH = \"data/vis_drone_data/\"\n",
    "SOD_DATA_PATH = \"data/uav_sod_data/\"\n",
    "CITY_DATA_PATH = \"data/city_scapes\""
   ]
  },
  {
   "cell_type": "markdown",
   "metadata": {},
   "source": [
    "### COCO2017 Data"
   ]
  },
  {
   "cell_type": "code",
   "execution_count": null,
   "metadata": {},
   "outputs": [],
   "source": []
  },
  {
   "cell_type": "markdown",
   "metadata": {},
   "source": [
    "### Vis-Drone Data"
   ]
  },
  {
   "cell_type": "code",
   "execution_count": 3,
   "metadata": {},
   "outputs": [
    {
     "name": "stderr",
     "output_type": "stream",
     "text": [
      "Creating the right annotations format: 100%|██████████| 6471/6471 [00:01<00:00, 5849.42it/s]\n"
     ]
    },
    {
     "name": "stdout",
     "output_type": "stream",
     "text": [
      "Files edited successfully!\n"
     ]
    },
    {
     "name": "stderr",
     "output_type": "stream",
     "text": [
      "Creating the right annotations format: 100%|██████████| 548/548 [00:00<00:00, 5372.54it/s]\n"
     ]
    },
    {
     "name": "stdout",
     "output_type": "stream",
     "text": [
      "Files edited successfully!\n"
     ]
    }
   ],
   "source": [
    "# Define the train, test and validation paths\n",
    "train_path      = VIS_DATA_PATH + \"train\"\n",
    "validation_path = VIS_DATA_PATH + \"validation\"\n",
    "\n",
    "vis_paths = [train_path, validation_path]\n",
    "\n",
    "\n",
    "# Fix the annotations format, resize the images\n",
    "for path in vis_paths:\n",
    "    images_path      = path + \"/images\"\n",
    "    annotations_path = path + \"/annotations\"\n",
    "    preprocessing.resize_images(images_path, path + \"/new_images\")\n",
    "    preprocessing.extract_annotation_values(annotations_path)\n",
    "    shutil.rmtree(images_path)\n",
    "    os.rename(path + \"/new_images\", path + \"/images\")\n",
    "    \n",
    "    \n",
    "# Extract the Mean and the Standard Deviation from the images\n",
    "preprocessing.compute_mean_std(train_path + \"/images\", \"vis_drone\")"
   ]
  },
  {
   "cell_type": "markdown",
   "metadata": {},
   "source": [
    "### UAV-SOD Data"
   ]
  },
  {
   "cell_type": "code",
   "execution_count": 2,
   "metadata": {},
   "outputs": [
    {
     "name": "stderr",
     "output_type": "stream",
     "text": [
      "Converting XML to TXT: 100%|██████████| 717/717 [00:00<00:00, 1846.96it/s]\n",
      "Converting XML to TXT: 100%|██████████| 43/43 [00:00<00:00, 1924.46it/s]\n",
      "Converting XML to TXT: 100%|██████████| 84/84 [00:00<00:00, 1756.80it/s]\n"
     ]
    }
   ],
   "source": [
    "# Define the train, test and validation paths\n",
    "train_path      = SOD_DATA_PATH + \"train\"\n",
    "test_path       = SOD_DATA_PATH + \"test\"  \n",
    "validation_path = SOD_DATA_PATH + \"validation\"\n",
    "\n",
    "uav_paths = [train_path, test_path, validation_path]\n",
    "\n",
    "\n",
    "# Fix the annotations format, resize the images\n",
    "for path in uav_paths:\n",
    "    images_path      = path + \"/images\"\n",
    "    annotations_path = path + \"/annotations\"\n",
    "    preprocessing.xml_to_txt(annotations_path)\n",
    "    preprocessing.resize_images(images_path, path + \"/new_images\")\n",
    "    shutil.rmtree(images_path)\n",
    "    os.rename(path + \"/new_images\", path + \"/images\")\n",
    "    \n",
    "    \n",
    "# Extract the Mean and the Standard Deviation from the images\n",
    "preprocessing.compute_mean_std(train_path + \"/images\", \"uav_sod\")"
   ]
  },
  {
   "cell_type": "markdown",
   "metadata": {},
   "source": [
    "### CityScapes Data"
   ]
  },
  {
   "cell_type": "code",
   "execution_count": null,
   "metadata": {},
   "outputs": [],
   "source": []
  }
 ],
 "metadata": {
  "kernelspec": {
   "display_name": "base",
   "language": "python",
   "name": "python3"
  },
  "language_info": {
   "codemirror_mode": {
    "name": "ipython",
    "version": 3
   },
   "file_extension": ".py",
   "mimetype": "text/x-python",
   "name": "python",
   "nbconvert_exporter": "python",
   "pygments_lexer": "ipython3",
   "version": "3.10.9"
  }
 },
 "nbformat": 4,
 "nbformat_minor": 2
}
