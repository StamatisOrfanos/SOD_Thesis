{
 "cells": [
  {
   "cell_type": "markdown",
   "metadata": {},
   "source": [
    "## Plot the results of the training for each Dataset"
   ]
  },
  {
   "cell_type": "code",
   "execution_count": null,
   "metadata": {},
   "outputs": [],
   "source": []
  },
  {
   "cell_type": "markdown",
   "metadata": {},
   "source": [
    "### COCO dataset"
   ]
  },
  {
   "cell_type": "code",
   "execution_count": null,
   "metadata": {},
   "outputs": [],
   "source": [
    "# Import the data from the COCO dataset\n",
    "import matplotlib.pyplot as plt\n",
    "import matplotlib.patches as patches \n",
    "from PIL import Image\n",
    "from collections import defaultdict\n",
    "import json\n",
    "\n",
    "plt.rcParams['figure.figsize'] = (15,15)\n",
    "\n",
    "\n",
    "val_data = BASE_DATA_PATH + '/images/val2017'\n",
    "annotation_path = BASE_DATA_PATH +  '/annotations/instances_val2017.json'\n",
    "\n",
    "\n",
    "\n",
    "image = Image.open(val_data + '/000000000139.jpg')\n",
    "fig, ax = plt.subplots()\n",
    "# ax.imshow(image)\n",
    "# plt.show()\n",
    "\n",
    "\n",
    "image_ids_annotations = defaultdict(list)\n",
    "\n",
    "file = open(annotation_path)\n",
    "annotations = json.load(file)\n",
    "\n",
    "for annotation in annotations['annotations']:\n",
    "    image_id = annotation['image_id']\n",
    "    image_ids_annotations[image_id].append(annotation)\n",
    "\n",
    "category_id_to_name = dict()\n",
    "for ann in annotations['categories']:\n",
    "    category_id_to_name[ann['id']] = ann['name']\n",
    "\n",
    "\n",
    "image_name = val_data + '/000000000139.jpg'\n",
    "image_id = int(image_name.split('/')[-1].split('.')[0])\n",
    "image_annotations = image_ids_annotations[image_id]\n",
    "\n",
    "\n",
    "for image_annotation in image_annotations:\n",
    "    bbox = image_annotation['bbox']\n",
    "    name =  category_id_to_name[image_annotation['category_id']]\n",
    "    \n",
    "    x = float(bbox[0])\n",
    "    y = float(bbox[1])\n",
    "    w = float(bbox[2])\n",
    "    h = float(bbox[3])\n",
    "    \n",
    "    plt.text(x, y, name, fontdict={'fontsize': 10.0, 'color': 'white', 'backgroundcolor': 'blue'})\n",
    "    bb = patches.Rectangle((x,y), h,w, linewidth=2, edgecolor='blue', facecolor='none')\n",
    "    ax.add_patch(bb)\n",
    "    \n",
    "ax.imshow(image)\n",
    "plt.show()\n",
    "    "
   ]
  },
  {
   "cell_type": "markdown",
   "metadata": {},
   "source": [
    "### City-scapes"
   ]
  },
  {
   "cell_type": "code",
   "execution_count": null,
   "metadata": {},
   "outputs": [],
   "source": []
  },
  {
   "cell_type": "markdown",
   "metadata": {},
   "source": [
    "### UAV Data"
   ]
  },
  {
   "cell_type": "code",
   "execution_count": null,
   "metadata": {},
   "outputs": [],
   "source": []
  }
 ],
 "metadata": {
  "kernelspec": {
   "display_name": "base",
   "language": "python",
   "name": "python3"
  },
  "language_info": {
   "name": "python",
   "version": "3.10.9"
  }
 },
 "nbformat": 4,
 "nbformat_minor": 2
}
