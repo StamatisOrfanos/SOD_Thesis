{
 "cells": [
  {
   "cell_type": "markdown",
   "metadata": {},
   "source": [
    "# Training of the Extended Mask2Former"
   ]
  },
  {
   "cell_type": "code",
   "execution_count": null,
   "metadata": {},
   "outputs": [],
   "source": [
    "# Import Libraries\n",
    "import sys, os\n",
    "module_path = os.path.abspath(os.path.join('..'))\n",
    "from torchvision.datasets import CocoDetection\n",
    "import torch\n",
    "from torch.utils.data import DataLoader\n",
    "import torchvision.transforms as transforms\n",
    "from PIL import Image\n",
    "from models.extended_mask2former_model import ExtendedMask2Former\n",
    "from src.utils import metrics\n",
    "\n",
    "# Training parameters\n",
    "EPOCHS = 10\n",
    "BATCH_SIZE = 16\n",
    "LEARNING_RATE = 1e-3\n",
    "BASE_DATA_PATH = \"data/coco2017\""
   ]
  },
  {
   "cell_type": "markdown",
   "metadata": {},
   "source": [
    "### Set up GPU growth"
   ]
  },
  {
   "cell_type": "code",
   "execution_count": null,
   "metadata": {},
   "outputs": [],
   "source": [
    "# Set device we are going to load the model and the data\n",
    "device = 'mps' if torch.backends.mps.is_available() else \"cpu\""
   ]
  },
  {
   "cell_type": "markdown",
   "metadata": {},
   "source": [
    "### Data Preprocessing "
   ]
  },
  {
   "cell_type": "code",
   "execution_count": null,
   "metadata": {},
   "outputs": [],
   "source": [
    "# Get the mean and standard deviation from the COCO dataset\n",
    "def custom_collate_fn(batch):\n",
    "    batch = list(filter(lambda x: x is not None, batch)) \n",
    "    images, targets = zip(*batch)\n",
    "    images = torch.stack(images, dim=0)        \n",
    "    return images, targets\n",
    "\n",
    "\n",
    "\n",
    "# Define your transformations\n",
    "transform = transforms.Compose([\n",
    "    transforms.Resize((600, 600)),\n",
    "    transforms.ToTensor()\n",
    "])\n",
    "\n",
    "coco_train = CocoDetection(root='data/coco2017/images/train2017', annFile='data/coco2017/annotations/instances_train2017.json', transform=transform)\n",
    "coco_val = CocoDetection(root='data/coco2017/images/val2017',  annFile='data/coco2017/annotations/instances_val2017.json', transform=transform)\n",
    "\n",
    "val_loader = DataLoader(dataset=coco_val, batch_size=4, num_workers=1)\n",
    "\n",
    "mean, standard_deviation = metrics.calculate_data_mean_std(val_loader)\n",
    "print(mean)\n",
    "print(standard_deviation)\n",
    "\n",
    "\n",
    "\n",
    "\n",
    "\n"
   ]
  },
  {
   "cell_type": "code",
   "execution_count": null,
   "metadata": {},
   "outputs": [],
   "source": [
    "# Import necessary libraries\n",
    "# Initialize the COCO dataset\n",
    "# root_dir = 'data/coco2017/images/train2017'\n",
    "# annotation_file = 'data/coco2017/annotations/instances_train2017.json'  # Update this path\n",
    "\n",
    "# coco_dataset = COCODataset(root_dir=root_dir, annotation_file=annotation_file, transform=transform)\n",
    "# data_loader = DataLoader(coco_dataset, batch_size=4, shuffle=True, num_workers=4)\n",
    "\n",
    "# # Define your model, loss function, and optimizer Initialize your model\n",
    "# num_classes = 80\n",
    "# model = ExtendedMask2Former(num_classes=num_classes)  \n",
    "# model.to(device)\n",
    "# optimizer = torch.optim.AdamW(model.parameters(), lr=1e-4)\n",
    "# loss_fn = metrics.calculate_loss\n",
    "\n",
    "\n",
    "\n",
    "# # Training loop (simplified)\n",
    "# num_epochs = 10\n",
    "# for epoch in range(num_epochs):\n",
    "#     for images, targets in data_loader:\n",
    "#         images = images.to(device)\n",
    "#         targets = targets.to(device)\n",
    "        \n",
    "#         # Forward pass\n",
    "#         outputs = model(images)\n",
    "        \n",
    "#         # Compute loss\n",
    "#         loss = loss_fn(outputs, targets)\n",
    "        \n",
    "#         # Backward pass and optimize\n",
    "#         optimizer.zero_grad()\n",
    "#         loss.backward()\n",
    "#         optimizer.step()\n",
    "    \n",
    "#     print(f'Epoch [{epoch+1}/{num_epochs}], Loss: {loss.item()}')\n",
    "\n",
    "# # Note: This is a very simplified training loop. You'll need to adjust it based on your model's specific inputs and outputs.\n"
   ]
  }
 ],
 "metadata": {
  "kernelspec": {
   "display_name": "base",
   "language": "python",
   "name": "python3"
  },
  "language_info": {
   "codemirror_mode": {
    "name": "ipython",
    "version": 3
   },
   "file_extension": ".py",
   "mimetype": "text/x-python",
   "name": "python",
   "nbconvert_exporter": "python",
   "pygments_lexer": "ipython3",
   "version": "3.1.undefined"
  }
 },
 "nbformat": 4,
 "nbformat_minor": 2
}
